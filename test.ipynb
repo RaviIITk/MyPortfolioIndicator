{
 "cells": [
  {
   "cell_type": "code",
   "execution_count": 14,
   "id": "90934155",
   "metadata": {},
   "outputs": [],
   "source": [
    "from src.database import databases"
   ]
  },
  {
   "cell_type": "code",
   "execution_count": 15,
   "id": "3e0c493a",
   "metadata": {},
   "outputs": [
    {
     "name": "stdout",
     "output_type": "stream",
     "text": [
      "Database initialized successfully!\n"
     ]
    }
   ],
   "source": [
    "# Create database directory if it doesn't exist\n",
    "import os\n",
    "os.makedirs('./database', exist_ok=True)\n",
    "\n",
    "# Initialize database with correct path\n",
    "db = databases(db_path='./database')\n",
    "\n",
    "# Test the connection\n",
    "try:\n",
    "    db.populate_empty_db()\n",
    "    print(\"Database initialized successfully!\")\n",
    "except Exception as e:\n",
    "    print(f\"Error: {str(e)}\")"
   ]
  },
  {
   "cell_type": "code",
   "execution_count": 12,
   "id": "5e273ada",
   "metadata": {},
   "outputs": [],
   "source": [
    "query = 'select * from news_sources'\n",
    "\n",
    "df= db.run_query(query)"
   ]
  }
 ],
 "metadata": {
  "kernelspec": {
   "display_name": "venv",
   "language": "python",
   "name": "python3"
  },
  "language_info": {
   "codemirror_mode": {
    "name": "ipython",
    "version": 3
   },
   "file_extension": ".py",
   "mimetype": "text/x-python",
   "name": "python",
   "nbconvert_exporter": "python",
   "pygments_lexer": "ipython3",
   "version": "3.13.5"
  }
 },
 "nbformat": 4,
 "nbformat_minor": 5
}
